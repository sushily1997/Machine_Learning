{
  "nbformat": 4,
  "nbformat_minor": 0,
  "metadata": {
    "anaconda-cloud": {},
    "kernelspec": {
      "display_name": "Python 3",
      "language": "python",
      "name": "python3"
    },
    "language_info": {
      "codemirror_mode": {
        "name": "ipython",
        "version": 3
      },
      "file_extension": ".py",
      "mimetype": "text/x-python",
      "name": "python",
      "nbconvert_exporter": "python",
      "pygments_lexer": "ipython3",
      "version": "3.5.1"
    },
    "colab": {
      "provenance": [],
      "include_colab_link": true
    }
  },
  "cells": [
    {
      "cell_type": "markdown",
      "metadata": {
        "id": "view-in-github",
        "colab_type": "text"
      },
      "source": [
        "<a href=\"https://colab.research.google.com/github/sushily1997/Machine_Learning/blob/main/ML_25_Principal_Component_Analysis.ipynb\" target=\"_parent\"><img src=\"https://colab.research.google.com/assets/colab-badge.svg\" alt=\"Open In Colab\"/></a>"
      ]
    },
    {
      "cell_type": "markdown",
      "metadata": {
        "id": "bWx2gBjxZ3Oa"
      },
      "source": [
        "# <b><u> Introduction to Principal Component Analysis </u></b>"
      ]
    },
    {
      "cell_type": "markdown",
      "metadata": {
        "deletable": true,
        "editable": true,
        "id": "yGpccS3UZ3Oa"
      },
      "source": [
        "### Up until now, we have been looking in depth at supervised learning estimators: those estimators that predict labels based on labeled training data. Here we begin looking at several unsupervised estimators, which can highlight interesting aspects of the data without reference to any known labels.\n",
        "\n",
        "### In this section, we explore what is perhaps one of the most broadly used of unsupervised algorithms, principal component analysis (PCA). PCA is fundamentally a dimensionality reduction algorithm, but it can also be useful as a tool for visualization, for noise filtering, for feature extraction and engineering, and much more."
      ]
    },
    {
      "cell_type": "code",
      "metadata": {
        "deletable": true,
        "editable": true,
        "id": "Sc4lIYL3Z3Ob"
      },
      "source": [
        "%matplotlib inline\n",
        "import numpy as np\n",
        "import matplotlib.pyplot as plt\n",
        "import seaborn as sns; sns.set()"
      ],
      "execution_count": null,
      "outputs": []
    },
    {
      "cell_type": "markdown",
      "metadata": {
        "deletable": true,
        "editable": true,
        "id": "KclRnQc4Z3Oc"
      },
      "source": [
        "## Principal component analysis is a fast and flexible unsupervised method for dimensionality reduction in data. Its behavior is easiest to visualize by looking at a two-dimensional dataset."
      ]
    },
    {
      "cell_type": "code",
      "metadata": {
        "deletable": true,
        "editable": true,
        "id": "RutCxDz3Z3Od",
        "colab": {
          "base_uri": "https://localhost:8080/",
          "height": 335
        },
        "outputId": "0c18fe28-a534-4e3e-8ebd-d82596f08ec4"
      },
      "source": [
        "rng = np.random.RandomState(1)\n",
        "X = np.dot(rng.rand(2, 2), rng.randn(2, 200)).T\n",
        "plt.scatter(X[:, 0], X[:, 1])\n",
        "plt.axis('equal')"
      ],
      "execution_count": null,
      "outputs": [
        {
          "output_type": "execute_result",
          "data": {
            "text/plain": [
              "(-2.7292712056271964,\n",
              " 2.5702744393352615,\n",
              " -0.9326181575178751,\n",
              " 1.004413830229183)"
            ]
          },
          "metadata": {
            "tags": []
          },
          "execution_count": 17
        },
        {
          "output_type": "display_data",
          "data": {
            "image/png": "[encoded data removed]",
            "text/plain": [
              "<Figure size 432x288 with 1 Axes>"
            ]
          },
          "metadata": {
            "tags": [],
            "needs_background": "light"
          }
        }
      ]
    },
    {
      "cell_type": "markdown",
      "metadata": {
        "deletable": true,
        "editable": true,
        "id": "BxIGKAzvZ3Oe"
      },
      "source": [
        "### By eye, it is clear that there is a nearly linear relationship between the x and y variables.\n",
        "### This is reminiscent of the linear regression data we explored in Linear Regression, but the problem setting here is slightly different: rather than attempting to *predict* the y values from the x values, the unsupervised learning problem attempts to learn about the *relationship* between the variables.\n",
        "\n",
        "### In principal component analysis, this relationship is quantified by finding a list of the *principal axes* in the data, and using those axes to describe the dataset. Using Scikit-Learn's ``PCA`` estimator, we can compute this as follows:"
      ]
    },
    {
      "cell_type": "code",
      "metadata": {
        "deletable": true,
        "editable": true,
        "id": "Er01m-EVZ3Of",
        "colab": {
          "base_uri": "https://localhost:8080/"
        },
        "outputId": "968693a3-1f96-44ca-8b02-d79111c2707b"
      },
      "source": [
        "from sklearn.decomposition import PCA\n",
        "pca = PCA(n_components=1)\n",
        "pca.fit(X)"
      ],
      "execution_count": null,
      "outputs": [
        {
          "output_type": "execute_result",
          "data": {
            "text/plain": [
              "PCA(copy=True, iterated_power='auto', n_components=1, random_state=None,\n",
              "    svd_solver='auto', tol=0.0, whiten=False)"
            ]
          },
          "metadata": {
            "tags": []
          },
          "execution_count": 18
        }
      ]
    },
    {
      "cell_type": "markdown",
      "metadata": {
        "deletable": true,
        "editable": true,
        "id": "APV1AX3NZ3Of"
      },
      "source": [
        "### The fit learns some quantities from the data, most importantly the \"components\" and \"explained variance\":"
      ]
    },
    {
      "cell_type": "code",
      "metadata": {
        "deletable": true,
        "editable": true,
        "id": "j8TJDpffZ3Og",
        "colab": {
          "base_uri": "https://localhost:8080/"
        },
        "outputId": "d30855d2-80c1-41b0-98e0-efeb5be31495"
      },
      "source": [
        "print(pca.components_)"
      ],
      "execution_count": null,
      "outputs": [
        {
          "output_type": "stream",
          "text": [
            "[[-0.94446029 -0.32862557]]\n"
          ],
          "name": "stdout"
        }
      ]
    },
    {
      "cell_type": "code",
      "metadata": {
        "deletable": true,
        "editable": true,
        "id": "nMw5OBViZ3Og",
        "colab": {
          "base_uri": "https://localhost:8080/"
        },
        "outputId": "04a45437-861a-4ed0-b688-e2ca7cd14e44"
      },
      "source": [
        "print(pca.explained_variance_)"
      ],
      "execution_count": null,
      "outputs": [
        {
          "output_type": "stream",
          "text": [
            "[0.7625315]\n"
          ],
          "name": "stdout"
        }
      ]
    },
    {
      "cell_type": "markdown",
      "metadata": {
        "deletable": true,
        "editable": true,
        "id": "2VfwGtxSZ3Og"
      },
      "source": [
        "### To see what these numbers mean, let's visualize them as vectors over the input data, using the \"components\" to define the direction of the vector, and the \"explained variance\" to define the squared-length of the vector:"
      ]
    },
    {
      "cell_type": "code",
      "metadata": {
        "deletable": true,
        "editable": true,
        "id": "pEEOX97qZ3Oh",
        "colab": {
          "base_uri": "https://localhost:8080/",
          "height": 268
        },
        "outputId": "82430c7d-241b-41e4-c471-3b487ad5f63c"
      },
      "source": [
        "def draw_vector(v0, v1, ax=None):\n",
        "    ax = ax or plt.gca()\n",
        "    arrowprops=dict(arrowstyle='->',\n",
        "                    linewidth=2,\n",
        "                    shrinkA=0, shrinkB=0)\n",
        "    ax.annotate('', v1, v0, arrowprops=arrowprops)\n",
        "\n",
        "# plot data\n",
        "plt.scatter(X[:, 0], X[:, 1], alpha=0.2)\n",
        "for length, vector in zip(pca.explained_variance_, pca.components_):\n",
        "    v = vector * 3 * np.sqrt(length)\n",
        "    draw_vector(pca.mean_, pca.mean_ + v)\n",
        "plt.axis('equal')"
      ],
      "execution_count": null,
      "outputs": [
        {
          "output_type": "display_data",
          "data": {
            "image/png": "[encoded data removed]",
            "text/plain": [
              "<Figure size 432x288 with 1 Axes>"
            ]
          },
          "metadata": {
            "tags": [],
            "needs_background": "light"
          }
        }
      ]
    },
    {
      "cell_type": "markdown",
      "metadata": {
        "deletable": true,
        "editable": true,
        "id": "wZlmhZqHZ3Oh"
      },
      "source": [
        "### These vectors represent the *principal axes* of the data, and the length of the vector is an indication of how \"important\" that axis is in describing the distribution of the data—more precisely, it is a measure of the variance of the data when projected onto that axis.The projection of each data point onto the principal axes are the \"principal components\" of the data.\n",
        "\n",
        "### If we plot these principal components beside the original data, we see the plots shown here:"
      ]
    },
    {
      "cell_type": "markdown",
      "metadata": {
        "id": "HFKr8uKNeAiy"
      },
      "source": [
        "![PCA.png](data:image/png;base64,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)"
      ]
    },
    {
      "cell_type": "markdown",
      "metadata": {
        "deletable": true,
        "editable": true,
        "id": "u5M9Pt-LZ3Oi"
      },
      "source": [
        "### This transformation from data axes to principal axes is an *affine transformation*, which basically means it is composed of a translation, rotation, and uniform scaling.\n",
        "\n",
        "### While this algorithm to find principal components may seem like just a mathematical curiosity, it turns out to have very far-reaching applications in the world of machine learning and data exploration."
      ]
    },
    {
      "cell_type": "markdown",
      "metadata": {
        "deletable": true,
        "editable": true,
        "id": "Pmtv5BA2Z3Oi"
      },
      "source": [
        "## <b><u> PCA as dimensionality reduction </u></b>\n",
        "\n",
        "### Using PCA for dimensionality reduction involves zeroing out one or more of the smallest principal components, resulting in a lower-dimensional projection of the data that preserves the maximal data variance.\n",
        "\n",
        "### Here is an example of using PCA as a dimensionality reduction transform:"
      ]
    },
    {
      "cell_type": "code",
      "metadata": {
        "deletable": true,
        "editable": true,
        "id": "p9Lvli_yZ3Oj",
        "colab": {
          "base_uri": "https://localhost:8080/"
        },
        "outputId": "6eb1a715-045a-4663-8640-4d3c59af2b43"
      },
      "source": [
        "pca = PCA(n_components=2)\n",
        "pca.fit(X)\n",
        "X_pca = pca.transform(X)\n",
        "print(\"original shape:   \", X.shape)\n",
        "print(\"transformed shape:\", X_pca.shape)"
      ],
      "execution_count": null,
      "outputs": [
        {
          "output_type": "stream",
          "text": [
            "original shape:    (200, 2)\n",
            "transformed shape: (200, 2)\n"
          ],
          "name": "stdout"
        }
      ]
    },
    {
      "cell_type": "code",
      "metadata": {
        "id": "5wgexNffP3wW",
        "outputId": "b49e9abe-19a3-4062-89fa-6d2516ad79f5",
        "colab": {
          "base_uri": "https://localhost:8080/"
        }
      },
      "source": [
        "pca.components_"
      ],
      "execution_count": null,
      "outputs": [
        {
          "output_type": "execute_result",
          "data": {
            "text/plain": [
              "array([[-0.94446029, -0.32862557],\n",
              "       [-0.32862557,  0.94446029]])"
            ]
          },
          "metadata": {
            "tags": []
          },
          "execution_count": 34
        }
      ]
    },
    {
      "cell_type": "code",
      "metadata": {
        "colab": {
          "base_uri": "https://localhost:8080/"
        },
        "id": "0Og6pAUWOO8C",
        "outputId": "294ba919-00a4-457f-eeac-fb7b67cf9f9a"
      },
      "source": [
        "X_pca"
      ],
      "execution_count": null,
      "outputs": [
        {
          "output_type": "execute_result",
          "data": {
            "text/plain": [
              "array([[ 6.76769235e-01],\n",
              "       [-1.07121393e+00],\n",
              "       [ 7.27912364e-01],\n",
              "       [ 2.30964136e+00],\n",
              "       [ 6.30052323e-01],\n",
              "       [ 1.02448887e+00],\n",
              "       [ 7.77183507e-01],\n",
              "       [-1.39656414e+00],\n",
              "       [-2.91049874e-01],\n",
              "       [ 1.88864221e+00],\n",
              "       [-7.11544293e-01],\n",
              "       [ 6.38884130e-01],\n",
              "       [ 5.48059617e-01],\n",
              "       [-2.19312436e-01],\n",
              "       [-3.87789490e-01],\n",
              "       [ 7.15219956e-01],\n",
              "       [-1.08373816e+00],\n",
              "       [-2.99917403e-01],\n",
              "       [-7.96849021e-01],\n",
              "       [-8.12568346e-01],\n",
              "       [-1.54018281e+00],\n",
              "       [-2.52920476e-01],\n",
              "       [ 6.26464454e-01],\n",
              "       [-1.61007571e+00],\n",
              "       [ 5.04240563e-01],\n",
              "       [ 5.53935753e-01],\n",
              "       [ 6.81911252e-01],\n",
              "       [-2.00157228e-02],\n",
              "       [ 1.13550833e-01],\n",
              "       [ 2.92286085e-02],\n",
              "       [-2.14393483e-01],\n",
              "       [-1.03406124e+00],\n",
              "       [ 3.88635004e-01],\n",
              "       [ 9.96727811e-01],\n",
              "       [ 1.39223653e+00],\n",
              "       [ 4.57043694e-01],\n",
              "       [ 6.81839901e-01],\n",
              "       [-9.05233246e-01],\n",
              "       [ 4.94316334e-01],\n",
              "       [ 6.22411280e-01],\n",
              "       [ 3.26088548e-01],\n",
              "       [ 4.52560386e-01],\n",
              "       [ 6.81840663e-01],\n",
              "       [-2.44832816e-01],\n",
              "       [-5.27149562e-01],\n",
              "       [-4.51448737e-01],\n",
              "       [-1.42864453e+00],\n",
              "       [ 8.05233004e-01],\n",
              "       [ 1.81049742e-01],\n",
              "       [ 3.49039347e-01],\n",
              "       [ 2.65803583e+00],\n",
              "       [-1.34272221e+00],\n",
              "       [-1.73026340e-01],\n",
              "       [ 6.13676729e-01],\n",
              "       [-1.89940741e+00],\n",
              "       [-7.93074429e-01],\n",
              "       [-4.17072486e-01],\n",
              "       [ 1.54913526e-01],\n",
              "       [ 2.44646603e-01],\n",
              "       [ 7.26337140e-01],\n",
              "       [-7.91592424e-01],\n",
              "       [ 4.39666794e-01],\n",
              "       [-2.66630687e-01],\n",
              "       [-8.77131636e-01],\n",
              "       [-6.37447634e-01],\n",
              "       [-7.72982393e-01],\n",
              "       [-1.04616382e+00],\n",
              "       [ 1.15209837e+00],\n",
              "       [-5.26661400e-02],\n",
              "       [-9.74296354e-01],\n",
              "       [-6.24348505e-01],\n",
              "       [-1.00475074e+00],\n",
              "       [ 5.89973268e-01],\n",
              "       [ 1.50344054e+00],\n",
              "       [ 1.27433349e+00],\n",
              "       [-1.25658172e+00],\n",
              "       [ 1.37852445e-01],\n",
              "       [-1.36126475e+00],\n",
              "       [ 7.27518820e-01],\n",
              "       [ 4.50501231e-01],\n",
              "       [-1.17577071e-01],\n",
              "       [-8.49638130e-01],\n",
              "       [-9.51657336e-02],\n",
              "       [-1.81175961e-01],\n",
              "       [ 2.81596080e-01],\n",
              "       [-2.56560634e-01],\n",
              "       [ 8.52804745e-01],\n",
              "       [-4.77688980e-01],\n",
              "       [-2.96471868e-01],\n",
              "       [ 1.68108524e-03],\n",
              "       [-2.05727542e-01],\n",
              "       [ 8.12610001e-01],\n",
              "       [-7.06157363e-02],\n",
              "       [ 2.31690062e-01],\n",
              "       [-1.59605923e-01],\n",
              "       [-5.98727081e-01],\n",
              "       [ 1.01944512e+00],\n",
              "       [-7.01462226e-01],\n",
              "       [-1.40420099e+00],\n",
              "       [ 6.94997907e-01],\n",
              "       [ 5.18636606e-01],\n",
              "       [ 4.83061626e-01],\n",
              "       [ 6.79198052e-01],\n",
              "       [-1.30170017e+00],\n",
              "       [-2.71805220e-01],\n",
              "       [ 9.47603686e-01],\n",
              "       [-3.49630397e-01],\n",
              "       [ 4.85113462e-01],\n",
              "       [-3.04715098e-01],\n",
              "       [-3.31839520e-01],\n",
              "       [-1.38578436e+00],\n",
              "       [ 8.84502948e-01],\n",
              "       [-2.47084475e+00],\n",
              "       [-9.56899804e-02],\n",
              "       [-4.64806358e-01],\n",
              "       [ 7.06669625e-01],\n",
              "       [ 1.54312708e-01],\n",
              "       [ 5.45819213e-01],\n",
              "       [ 1.46023727e-01],\n",
              "       [ 9.57253276e-01],\n",
              "       [-6.91815248e-01],\n",
              "       [-1.00443516e-01],\n",
              "       [ 2.77924488e-01],\n",
              "       [-1.20207491e+00],\n",
              "       [-6.04953108e-02],\n",
              "       [-1.03273685e+00],\n",
              "       [ 6.88215760e-01],\n",
              "       [-1.21050656e+00],\n",
              "       [-2.40052449e-01],\n",
              "       [-6.06855334e-01],\n",
              "       [ 1.29217575e+00],\n",
              "       [-1.03282074e-01],\n",
              "       [-1.41361475e+00],\n",
              "       [ 7.57783205e-01],\n",
              "       [ 1.41360423e+00],\n",
              "       [ 1.99564613e+00],\n",
              "       [ 1.66865955e+00],\n",
              "       [ 1.66032125e+00],\n",
              "       [ 4.24742508e-01],\n",
              "       [-9.26445715e-01],\n",
              "       [ 3.28504629e-02],\n",
              "       [-5.17521702e-01],\n",
              "       [-9.24887775e-02],\n",
              "       [-3.05962249e-02],\n",
              "       [ 1.30795754e-01],\n",
              "       [-7.74659629e-02],\n",
              "       [-4.20826569e-01],\n",
              "       [ 6.78334448e-01],\n",
              "       [-6.35104074e-01],\n",
              "       [ 2.72075594e-01],\n",
              "       [-2.26801066e-01],\n",
              "       [-1.45908094e+00],\n",
              "       [ 4.03275391e-01],\n",
              "       [ 4.88618199e-01],\n",
              "       [-3.77797862e-02],\n",
              "       [ 2.25514691e-01],\n",
              "       [ 3.73320407e-01],\n",
              "       [ 9.96559672e-01],\n",
              "       [ 6.68655132e-01],\n",
              "       [-3.09207055e-01],\n",
              "       [ 1.44746288e+00],\n",
              "       [-1.27674147e-01],\n",
              "       [ 1.95898129e-02],\n",
              "       [-4.68331172e-01],\n",
              "       [-7.59794861e-01],\n",
              "       [ 2.11566325e+00],\n",
              "       [-1.28843614e+00],\n",
              "       [ 5.24455206e-01],\n",
              "       [ 2.68082969e-01],\n",
              "       [ 4.06271559e-02],\n",
              "       [-1.63087335e+00],\n",
              "       [ 4.50273668e-01],\n",
              "       [-1.41736985e+00],\n",
              "       [-3.20579341e-01],\n",
              "       [-2.16095416e+00],\n",
              "       [ 7.55938440e-01],\n",
              "       [ 1.13147728e+00],\n",
              "       [-4.01022769e-01],\n",
              "       [-1.33261395e-01],\n",
              "       [-1.20765775e-01],\n",
              "       [ 1.03185993e+00],\n",
              "       [-1.29878689e-01],\n",
              "       [-4.08011754e-01],\n",
              "       [ 4.17084437e-01],\n",
              "       [-1.00930809e-01],\n",
              "       [ 7.22839507e-02],\n",
              "       [ 6.47903117e-01],\n",
              "       [ 4.74689466e-01],\n",
              "       [ 6.85499472e-01],\n",
              "       [-1.49366216e+00],\n",
              "       [-3.49297457e-01],\n",
              "       [-7.79713261e-01],\n",
              "       [ 5.67446775e-01],\n",
              "       [ 5.18831382e-02],\n",
              "       [ 1.25350822e+00],\n",
              "       [-8.53016941e-01],\n",
              "       [-2.61547685e-01],\n",
              "       [-2.02667441e+00],\n",
              "       [ 1.20688282e+00],\n",
              "       [-3.53816725e-01]])"
            ]
          },
          "metadata": {
            "tags": []
          },
          "execution_count": 31
        }
      ]
    },
    {
      "cell_type": "code",
      "metadata": {
        "colab": {
          "base_uri": "https://localhost:8080/"
        },
        "id": "f1VKSmHzNpEl",
        "outputId": "d7efe072-55fd-40e6-9428-8dec2ecb8c2d"
      },
      "source": [
        "pca.explained_variance_"
      ],
      "execution_count": null,
      "outputs": [
        {
          "output_type": "execute_result",
          "data": {
            "text/plain": [
              "array([0.7625315])"
            ]
          },
          "metadata": {
            "tags": []
          },
          "execution_count": 22
        }
      ]
    },
    {
      "cell_type": "markdown",
      "metadata": {
        "deletable": true,
        "editable": true,
        "id": "OEgrBsV5Z3Oj"
      },
      "source": [
        "### The transformed data has been reduced to a single dimension.\n",
        "\n",
        "### To understand the effect of this dimensionality reduction, we can perform the inverse transform of this reduced data and plot it along with the original data:"
      ]
    },
    {
      "cell_type": "code",
      "metadata": {
        "deletable": true,
        "editable": true,
        "id": "JRHoPD9eZ3Oj",
        "colab": {
          "base_uri": "https://localhost:8080/",
          "height": 335
        },
        "outputId": "5791c5ca-f471-4d08-d588-0a21f22e592f"
      },
      "source": [
        "X_new = pca.inverse_transform(X_pca)\n",
        "plt.scatter(X[:, 0], X[:, 1], alpha=0.2)\n",
        "plt.scatter(X_new[:, 0], X_new[:, 1], alpha=0.8)\n",
        "plt.axis('equal')"
      ],
      "execution_count": null,
      "outputs": [
        {
          "output_type": "execute_result",
          "data": {
            "text/plain": [
              "(-2.731158226766438,\n",
              " 2.6099018832593326,\n",
              " -0.9672765706389318,\n",
              " 1.006064230853995)"
            ]
          },
          "metadata": {
            "tags": []
          },
          "execution_count": 32
        },
        {
          "output_type": "display_data",
          "data": {
            "image/png": "[encoded data removed]",
            "text/plain": [
              "<Figure size 432x288 with 1 Axes>"
            ]
          },
          "metadata": {
            "tags": [],
            "needs_background": "light"
          }
        }
      ]
    },
    {
      "cell_type": "code",
      "metadata": {
        "colab": {
          "base_uri": "https://localhost:8080/"
        },
        "id": "_ycu1uL7NwZn",
        "outputId": "a4e7395c-27cf-4b64-bbc7-43a432dc75de"
      },
      "source": [
        "X[:5]"
      ],
      "execution_count": null,
      "outputs": [
        {
          "output_type": "execute_result",
          "data": {
            "text/plain": [
              "array([[-0.62530162, -0.17006366],\n",
              "       [ 0.96069503,  0.5909006 ],\n",
              "       [-0.59854339, -0.40259339],\n",
              "       [-2.22805938, -0.53257674],\n",
              "       [-0.46143006, -0.49886724]])"
            ]
          },
          "metadata": {
            "tags": []
          },
          "execution_count": 25
        }
      ]
    },
    {
      "cell_type": "code",
      "metadata": {
        "colab": {
          "base_uri": "https://localhost:8080/"
        },
        "id": "jUMoOXlg8_xB",
        "outputId": "5d16b254-1245-417f-f6a5-68786f718022"
      },
      "source": [
        "X_new[:5]"
      ],
      "execution_count": null,
      "outputs": [
        {
          "output_type": "execute_result",
          "data": {
            "text/plain": [
              "array([[-0.60566999, -0.22648439],\n",
              "       [ 1.0452307 ,  0.34794757],\n",
              "       [-0.65397264, -0.24329133],\n",
              "       [-2.14785286, -0.76308793],\n",
              "       [-0.56154772, -0.21113202]])"
            ]
          },
          "metadata": {
            "tags": []
          },
          "execution_count": 26
        }
      ]
    },
    {
      "cell_type": "markdown",
      "metadata": {
        "deletable": true,
        "editable": true,
        "id": "ZkZSMNH4Z3Ok"
      },
      "source": [
        "### The light points are the original data, while the dark points are the projected version.\n",
        "\n",
        "### This makes clear what a PCA dimensionality reduction means: the information along the least important principal axis or axes is removed, leaving only the component(s) of the data with the highest variance.\n",
        "\n",
        "### The fraction of variance that is cut out (proportional to the spread of points about the line formed in this figure) is roughly a measure of how much \"information\" is discarded in this reduction of dimensionality.\n",
        "\n",
        "### This reduced-dimension dataset is in some senses \"good enough\" to encode the most important relationships between the points: despite reducing the dimension of the data by 50%, the overall relationship between the data points are mostly preserved."
      ]
    },
    {
      "cell_type": "markdown",
      "metadata": {
        "id": "IprNJo2llr8I"
      },
      "source": [
        "# <b><u> Learning the math behind PCA </u></b>"
      ]
    },
    {
      "cell_type": "markdown",
      "metadata": {
        "id": "rla95SEolr3t"
      },
      "source": [
        "## <b> Step 1 : Take the whole dataset with dimension $d$ (which corresponds to the $d$ features) </b>\n",
        "\n",
        "\n",
        "## <b> Step 2 : Compute the mean of every dimension of the whole dataset. </b>\n",
        "\n",
        "## <b> Step 3 : Compute the covariance matrix of the whole dataset </b>\n",
        "* ### \\begin{align*}\n",
        "  Cov(X,Y) &= \\frac{1}{n-1}\\sum_{i=1}^{n} (X_{i} - \\bar X)(Y_{i} - \\bar Y) \\\\\n",
        "\\end{align*}\n",
        "\n",
        "## <b> Step 4 : Compute Eigenvectors and corresponding Eigenvalues for the covariance matrix A </b>\n",
        "* ### Let A be a square matrix, ν a vector and λ a scalar that satisfies $Aν = λν$, then λ is called eigenvalue associated with eigenvector ν of A.\n",
        "\n",
        "## <b> Step 5 : Sort the eigenvectors by decreasing eigenvalues and choose $k$ eigenvectors with the largest eigenvalues to form a $d × k$ dimensional matrix $W$. </b>\n",
        "\n",
        "## <b> Step 6 : Transform the samples onto the new subspace</b>\n",
        "* ### In the last step, we use the $d × k$ dimensional matrix $W$ that we just computed to transform our samples onto the new subspace via the equation $y = W′ × x$ where $W′$ is the transpose of the matrix $W$.\n"
      ]
    },
    {
      "cell_type": "markdown",
      "metadata": {
        "deletable": true,
        "editable": true,
        "id": "z3iWZM0LZ3Ou"
      },
      "source": [
        "## <b><u> Principal Component Analysis Summary </u></b>\n",
        "\n",
        "### In this section we have discussed the use of principal component analysis for dimensionality reduction, for visualization of high-dimensional data,  and for feature selection within high-dimensional data.\n",
        "\n",
        "### Because of the versatility and interpretability of PCA, it has been shown to be effective in a wide variety of contexts and disciplines. Given any high-dimensional dataset, we can start with PCA in order to visualize the relationship between points, to understand the main variance in the data, and to understand the intrinsic dimensionality.\n",
        "\n",
        "### Certainly PCA is not useful for every high-dimensional dataset, but it offers a straightforward and efficient path to gaining insight into high-dimensional data.\n",
        "\n",
        "### PCA's main weakness is that it tends to be highly affected by outliers in the data. For this reason, many robust variants of PCA have been developed, many of which act to iteratively discard data points that are poorly described by the initial components."
      ]
    },
    {
      "cell_type": "markdown",
      "source": [
        "Reference:\n",
        "\n",
        "1. https://medium.com/geekculture/principal-component-analysis-3d2b3a0bb93e\n",
        "\n",
        "2. https://medium.com/codex/principal-component-analysis-pca-how-it-works-mathematically-d5de4c7138e6"
      ],
      "metadata": {
        "id": "jleyZ5Y2697C"
      }
    },
    {
      "cell_type": "code",
      "metadata": {
        "id": "8ZYiVBVHkS1n"
      },
      "source": [],
      "execution_count": null,
      "outputs": []
    }
  ]
}